{
  "nbformat": 4,
  "nbformat_minor": 0,
  "metadata": {
    "colab": {
      "provenance": [],
      "authorship_tag": "ABX9TyNkvo8vn0mUGPxHA74J8aw1",
      "include_colab_link": true
    },
    "kernelspec": {
      "name": "python3",
      "display_name": "Python 3"
    },
    "language_info": {
      "name": "python"
    }
  },
  "cells": [
    {
      "cell_type": "markdown",
      "metadata": {
        "id": "view-in-github",
        "colab_type": "text"
      },
      "source": [
        "<a href=\"https://colab.research.google.com/github/2303a51519/hemanth/blob/main/assignment%201.ipynb\" target=\"_parent\"><img src=\"https://colab.research.google.com/assets/colab-badge.svg\" alt=\"Open In Colab\"/></a>"
      ]
    },
    {
      "cell_type": "code",
      "execution_count": 1,
      "metadata": {
        "colab": {
          "base_uri": "https://localhost:8080/"
        },
        "id": "vWhGTl0UFo4O",
        "outputId": "a5fd0c0a-af7f-45e3-decb-80dda5ac614e"
      },
      "outputs": [
        {
          "output_type": "stream",
          "name": "stdout",
          "text": [
            "Enter No.of elements in a list : 3\n",
            "Enter element : 1\n",
            "Enter element : 2\n",
            "Enter element : 3\n",
            "[1, 2, 3]\n",
            "<class 'list'>\n",
            "[1 2 3]\n",
            "<class 'numpy.ndarray'>\n",
            "Enter No.of elements in a list : 3\n",
            "Enter element : 3\n",
            "Enter element : 6\n",
            "Enter element : 9\n",
            "[3, 6, 9]\n",
            "<class 'list'>\n",
            "[3 6 9]\n",
            "<class 'numpy.ndarray'>\n",
            "Multiplication :  [ 3 12 27]\n",
            "Division :  [0.33333333 0.33333333 0.33333333]\n",
            "Exponent :  [    1    64 19683]\n",
            "Addition :  [ 4  8 12]\n",
            "[0.84147098 0.90929743 0.14112001]\n",
            "[0.         0.69314718 1.09861229]\n",
            "[1.5849625 2.5849625 3.169925 ]\n",
            "[ 2.71828183  7.3890561  20.08553692]\n",
            "Vineeth Puneriya\n"
          ]
        }
      ],
      "source": [
        "import numpy as np\n",
        "import pandas as pd\n",
        "l = []\n",
        "n = int(input(\"Enter No.of elements in a list : \"))\n",
        "while (n>0):\n",
        "  e = int(input(\"Enter element : \"))\n",
        "  l.append(e)\n",
        "  n-=1\n",
        "print(l)\n",
        "arr1 = np.array(l)\n",
        "print(type(l))\n",
        "print(arr1)\n",
        "print(type(arr1))\n",
        "m = []\n",
        "n = int(input(\"Enter No.of elements in a list : \"))\n",
        "while (n>0):\n",
        "  e = int(input(\"Enter element : \"))\n",
        "  m.append(e)\n",
        "  n-=1\n",
        "print(m)\n",
        "arr2 = np.array(m)\n",
        "print(type(m))\n",
        "print(arr2)\n",
        "print(type(arr2))\n",
        "print(\"Multiplication : \",arr1*arr2)\n",
        "print(\"Division : \",arr1/arr2)\n",
        "print(\"Exponent : \",arr1**arr2)\n",
        "print(\"Addition : \",arr1+arr2)\n",
        "p = np.sin(arr1)\n",
        "q = np.log(arr1)\n",
        "r = np.log2(arr2)\n",
        "s = np.exp(arr1)\n",
        "print(p)\n",
        "print(q)\n",
        "print(r)\n",
        "print(s)\n",
        "st1 = \"Vineeth\"\n",
        "st2 = \" Puneriya\"\n",
        "print(st1+st2)"
      ]
    }
  ]
}